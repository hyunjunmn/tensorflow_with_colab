{
  "nbformat": 4,
  "nbformat_minor": 0,
  "metadata": {
    "colab": {
      "name": "Find Flower",
      "provenance": [],
      "authorship_tag": "ABX9TyPw1lFKltHmWPeo6yMrQ64K",
      "include_colab_link": true
    },
    "kernelspec": {
      "name": "python3",
      "display_name": "Python 3"
    }
  },
  "cells": [
    {
      "cell_type": "markdown",
      "metadata": {
        "id": "view-in-github",
        "colab_type": "text"
      },
      "source": [
        "<a href=\"https://colab.research.google.com/github/hyunjunmn/tensorflow_with_colab/blob/master/Find_Flower.ipynb\" target=\"_parent\"><img src=\"https://colab.research.google.com/assets/colab-badge.svg\" alt=\"Open In Colab\"/></a>"
      ]
    },
    {
      "cell_type": "code",
      "metadata": {
        "id": "9BN7d5lhurrg",
        "colab_type": "code",
        "colab": {}
      },
      "source": [
        "#라이브러리 사용\n",
        "import tensorflow as tf\n",
        "import pandas as pd"
      ],
      "execution_count": 1,
      "outputs": []
    },
    {
      "cell_type": "code",
      "metadata": {
        "id": "_vtv5_DaxeKd",
        "colab_type": "code",
        "colab": {
          "base_uri": "https://localhost:8080/",
          "height": 198
        },
        "outputId": "a4602562-0586-435b-fd8d-c7e87ec14c4c"
      },
      "source": [
        "#과거의 데이터 준비\n",
        "파일경로 = 'https://raw.githubusercontent.com/blackdew/tensorflow1/master/csv/iris.csv'\n",
        "아이리스 = pd.read_csv(파일경로)\n",
        "아이리스.head()"
      ],
      "execution_count": 2,
      "outputs": [
        {
          "output_type": "execute_result",
          "data": {
            "text/html": [
              "<div>\n",
              "<style scoped>\n",
              "    .dataframe tbody tr th:only-of-type {\n",
              "        vertical-align: middle;\n",
              "    }\n",
              "\n",
              "    .dataframe tbody tr th {\n",
              "        vertical-align: top;\n",
              "    }\n",
              "\n",
              "    .dataframe thead th {\n",
              "        text-align: right;\n",
              "    }\n",
              "</style>\n",
              "<table border=\"1\" class=\"dataframe\">\n",
              "  <thead>\n",
              "    <tr style=\"text-align: right;\">\n",
              "      <th></th>\n",
              "      <th>꽃잎길이</th>\n",
              "      <th>꽃잎폭</th>\n",
              "      <th>꽃받침길이</th>\n",
              "      <th>꽃받침폭</th>\n",
              "      <th>품종</th>\n",
              "    </tr>\n",
              "  </thead>\n",
              "  <tbody>\n",
              "    <tr>\n",
              "      <th>0</th>\n",
              "      <td>5.1</td>\n",
              "      <td>3.5</td>\n",
              "      <td>1.4</td>\n",
              "      <td>0.2</td>\n",
              "      <td>setosa</td>\n",
              "    </tr>\n",
              "    <tr>\n",
              "      <th>1</th>\n",
              "      <td>4.9</td>\n",
              "      <td>3.0</td>\n",
              "      <td>1.4</td>\n",
              "      <td>0.2</td>\n",
              "      <td>setosa</td>\n",
              "    </tr>\n",
              "    <tr>\n",
              "      <th>2</th>\n",
              "      <td>4.7</td>\n",
              "      <td>3.2</td>\n",
              "      <td>1.3</td>\n",
              "      <td>0.2</td>\n",
              "      <td>setosa</td>\n",
              "    </tr>\n",
              "    <tr>\n",
              "      <th>3</th>\n",
              "      <td>4.6</td>\n",
              "      <td>3.1</td>\n",
              "      <td>1.5</td>\n",
              "      <td>0.2</td>\n",
              "      <td>setosa</td>\n",
              "    </tr>\n",
              "    <tr>\n",
              "      <th>4</th>\n",
              "      <td>5.0</td>\n",
              "      <td>3.6</td>\n",
              "      <td>1.4</td>\n",
              "      <td>0.2</td>\n",
              "      <td>setosa</td>\n",
              "    </tr>\n",
              "  </tbody>\n",
              "</table>\n",
              "</div>"
            ],
            "text/plain": [
              "   꽃잎길이  꽃잎폭  꽃받침길이  꽃받침폭      품종\n",
              "0   5.1  3.5    1.4   0.2  setosa\n",
              "1   4.9  3.0    1.4   0.2  setosa\n",
              "2   4.7  3.2    1.3   0.2  setosa\n",
              "3   4.6  3.1    1.5   0.2  setosa\n",
              "4   5.0  3.6    1.4   0.2  setosa"
            ]
          },
          "metadata": {
            "tags": []
          },
          "execution_count": 2
        }
      ]
    },
    {
      "cell_type": "code",
      "metadata": {
        "id": "0CgeYOsZxqS9",
        "colab_type": "code",
        "colab": {
          "base_uri": "https://localhost:8080/",
          "height": 198
        },
        "outputId": "cfcabca9-2ecc-41b5-d92a-3b5d762ce5fd"
      },
      "source": [
        "#원핫인코딩\n",
        "인코딩 = pd.get_dummies(아이리스)\n",
        "인코딩.head()"
      ],
      "execution_count": 3,
      "outputs": [
        {
          "output_type": "execute_result",
          "data": {
            "text/html": [
              "<div>\n",
              "<style scoped>\n",
              "    .dataframe tbody tr th:only-of-type {\n",
              "        vertical-align: middle;\n",
              "    }\n",
              "\n",
              "    .dataframe tbody tr th {\n",
              "        vertical-align: top;\n",
              "    }\n",
              "\n",
              "    .dataframe thead th {\n",
              "        text-align: right;\n",
              "    }\n",
              "</style>\n",
              "<table border=\"1\" class=\"dataframe\">\n",
              "  <thead>\n",
              "    <tr style=\"text-align: right;\">\n",
              "      <th></th>\n",
              "      <th>꽃잎길이</th>\n",
              "      <th>꽃잎폭</th>\n",
              "      <th>꽃받침길이</th>\n",
              "      <th>꽃받침폭</th>\n",
              "      <th>품종_setosa</th>\n",
              "      <th>품종_versicolor</th>\n",
              "      <th>품종_virginica</th>\n",
              "    </tr>\n",
              "  </thead>\n",
              "  <tbody>\n",
              "    <tr>\n",
              "      <th>0</th>\n",
              "      <td>5.1</td>\n",
              "      <td>3.5</td>\n",
              "      <td>1.4</td>\n",
              "      <td>0.2</td>\n",
              "      <td>1</td>\n",
              "      <td>0</td>\n",
              "      <td>0</td>\n",
              "    </tr>\n",
              "    <tr>\n",
              "      <th>1</th>\n",
              "      <td>4.9</td>\n",
              "      <td>3.0</td>\n",
              "      <td>1.4</td>\n",
              "      <td>0.2</td>\n",
              "      <td>1</td>\n",
              "      <td>0</td>\n",
              "      <td>0</td>\n",
              "    </tr>\n",
              "    <tr>\n",
              "      <th>2</th>\n",
              "      <td>4.7</td>\n",
              "      <td>3.2</td>\n",
              "      <td>1.3</td>\n",
              "      <td>0.2</td>\n",
              "      <td>1</td>\n",
              "      <td>0</td>\n",
              "      <td>0</td>\n",
              "    </tr>\n",
              "    <tr>\n",
              "      <th>3</th>\n",
              "      <td>4.6</td>\n",
              "      <td>3.1</td>\n",
              "      <td>1.5</td>\n",
              "      <td>0.2</td>\n",
              "      <td>1</td>\n",
              "      <td>0</td>\n",
              "      <td>0</td>\n",
              "    </tr>\n",
              "    <tr>\n",
              "      <th>4</th>\n",
              "      <td>5.0</td>\n",
              "      <td>3.6</td>\n",
              "      <td>1.4</td>\n",
              "      <td>0.2</td>\n",
              "      <td>1</td>\n",
              "      <td>0</td>\n",
              "      <td>0</td>\n",
              "    </tr>\n",
              "  </tbody>\n",
              "</table>\n",
              "</div>"
            ],
            "text/plain": [
              "   꽃잎길이  꽃잎폭  꽃받침길이  꽃받침폭  품종_setosa  품종_versicolor  품종_virginica\n",
              "0   5.1  3.5    1.4   0.2          1              0             0\n",
              "1   4.9  3.0    1.4   0.2          1              0             0\n",
              "2   4.7  3.2    1.3   0.2          1              0             0\n",
              "3   4.6  3.1    1.5   0.2          1              0             0\n",
              "4   5.0  3.6    1.4   0.2          1              0             0"
            ]
          },
          "metadata": {
            "tags": []
          },
          "execution_count": 3
        }
      ]
    },
    {
      "cell_type": "code",
      "metadata": {
        "id": "4HaAQ8vsx9XW",
        "colab_type": "code",
        "colab": {
          "base_uri": "https://localhost:8080/",
          "height": 72
        },
        "outputId": "abd4855b-5368-4912-8f84-f7aaefa01bed"
      },
      "source": [
        "print(인코딩.columns)"
      ],
      "execution_count": 4,
      "outputs": [
        {
          "output_type": "stream",
          "text": [
            "Index(['꽃잎길이', '꽃잎폭', '꽃받침길이', '꽃받침폭', '품종_setosa', '품종_versicolor',\n",
            "       '품종_virginica'],\n",
            "      dtype='object')\n"
          ],
          "name": "stdout"
        }
      ]
    },
    {
      "cell_type": "code",
      "metadata": {
        "id": "AZg0OLTxx3Sj",
        "colab_type": "code",
        "colab": {
          "base_uri": "https://localhost:8080/",
          "height": 35
        },
        "outputId": "29584d67-cb06-4be6-a9c0-9b7560d63445"
      },
      "source": [
        "#독립변수 종속변수 분류\n",
        "독립 = 인코딩[['꽃잎길이', '꽃잎폭', '꽃받침길이', '꽃받침폭']]\n",
        "종속 = 인코딩[['품종_setosa', '품종_versicolor','품종_virginica']]\n",
        "print(독립.shape,종속.shape)"
      ],
      "execution_count": 5,
      "outputs": [
        {
          "output_type": "stream",
          "text": [
            "(150, 4) (150, 3)\n"
          ],
          "name": "stdout"
        }
      ]
    },
    {
      "cell_type": "code",
      "metadata": {
        "id": "_Dzxbsj_yMfm",
        "colab_type": "code",
        "colab": {}
      },
      "source": [
        "x = tf.keras.layers.Input(shape=[4])\n",
        "y=tf.keras.layers.Dense(3,activation='softmax')(x)\n",
        "model = tf.keras.models.Model(x,y)\n",
        "model.compile(loss='categorical_crossentropy',metrics = 'accuracy')"
      ],
      "execution_count": 6,
      "outputs": []
    },
    {
      "cell_type": "code",
      "metadata": {
        "id": "ZstVyG8pyh32",
        "colab_type": "code",
        "colab": {
          "base_uri": "https://localhost:8080/",
          "height": 1000
        },
        "outputId": "0475c44e-2c5e-4987-8c4b-5c89aba5c694"
      },
      "source": [
        "model.fit(독립,종속,epochs=100)"
      ],
      "execution_count": 23,
      "outputs": [
        {
          "output_type": "stream",
          "text": [
            "Epoch 1/100\n",
            "5/5 [==============================] - 0s 1ms/step - loss: 0.2626 - accuracy: 0.9467\n",
            "Epoch 2/100\n",
            "5/5 [==============================] - 0s 1ms/step - loss: 0.2626 - accuracy: 0.9533\n",
            "Epoch 3/100\n",
            "5/5 [==============================] - 0s 1ms/step - loss: 0.2623 - accuracy: 0.9467\n",
            "Epoch 4/100\n",
            "5/5 [==============================] - 0s 1ms/step - loss: 0.2615 - accuracy: 0.9467\n",
            "Epoch 5/100\n",
            "5/5 [==============================] - 0s 1ms/step - loss: 0.2613 - accuracy: 0.9467\n",
            "Epoch 6/100\n",
            "5/5 [==============================] - 0s 1ms/step - loss: 0.2613 - accuracy: 0.9533\n",
            "Epoch 7/100\n",
            "5/5 [==============================] - 0s 1ms/step - loss: 0.2606 - accuracy: 0.9467\n",
            "Epoch 8/100\n",
            "5/5 [==============================] - 0s 1ms/step - loss: 0.2605 - accuracy: 0.9467\n",
            "Epoch 9/100\n",
            "5/5 [==============================] - 0s 1ms/step - loss: 0.2596 - accuracy: 0.9467\n",
            "Epoch 10/100\n",
            "5/5 [==============================] - 0s 2ms/step - loss: 0.2595 - accuracy: 0.9467\n",
            "Epoch 11/100\n",
            "5/5 [==============================] - 0s 1ms/step - loss: 0.2597 - accuracy: 0.9533\n",
            "Epoch 12/100\n",
            "5/5 [==============================] - 0s 1ms/step - loss: 0.2587 - accuracy: 0.9467\n",
            "Epoch 13/100\n",
            "5/5 [==============================] - 0s 1ms/step - loss: 0.2580 - accuracy: 0.9467\n",
            "Epoch 14/100\n",
            "5/5 [==============================] - 0s 1ms/step - loss: 0.2580 - accuracy: 0.9467\n",
            "Epoch 15/100\n",
            "5/5 [==============================] - 0s 1ms/step - loss: 0.2579 - accuracy: 0.9467\n",
            "Epoch 16/100\n",
            "5/5 [==============================] - 0s 1ms/step - loss: 0.2575 - accuracy: 0.9467\n",
            "Epoch 17/100\n",
            "5/5 [==============================] - 0s 1ms/step - loss: 0.2572 - accuracy: 0.9467\n",
            "Epoch 18/100\n",
            "5/5 [==============================] - 0s 1ms/step - loss: 0.2571 - accuracy: 0.9467\n",
            "Epoch 19/100\n",
            "5/5 [==============================] - 0s 2ms/step - loss: 0.2575 - accuracy: 0.9533\n",
            "Epoch 20/100\n",
            "5/5 [==============================] - 0s 1ms/step - loss: 0.2567 - accuracy: 0.9467\n",
            "Epoch 21/100\n",
            "5/5 [==============================] - 0s 1ms/step - loss: 0.2560 - accuracy: 0.9467\n",
            "Epoch 22/100\n",
            "5/5 [==============================] - 0s 1ms/step - loss: 0.2553 - accuracy: 0.9467\n",
            "Epoch 23/100\n",
            "5/5 [==============================] - 0s 1ms/step - loss: 0.2551 - accuracy: 0.9533\n",
            "Epoch 24/100\n",
            "5/5 [==============================] - 0s 1ms/step - loss: 0.2552 - accuracy: 0.9467\n",
            "Epoch 25/100\n",
            "5/5 [==============================] - 0s 2ms/step - loss: 0.2545 - accuracy: 0.9467\n",
            "Epoch 26/100\n",
            "5/5 [==============================] - 0s 1ms/step - loss: 0.2544 - accuracy: 0.9467\n",
            "Epoch 27/100\n",
            "5/5 [==============================] - 0s 1ms/step - loss: 0.2536 - accuracy: 0.9467\n",
            "Epoch 28/100\n",
            "5/5 [==============================] - 0s 1ms/step - loss: 0.2536 - accuracy: 0.9467\n",
            "Epoch 29/100\n",
            "5/5 [==============================] - 0s 2ms/step - loss: 0.2529 - accuracy: 0.9467\n",
            "Epoch 30/100\n",
            "5/5 [==============================] - 0s 2ms/step - loss: 0.2533 - accuracy: 0.9467\n",
            "Epoch 31/100\n",
            "5/5 [==============================] - 0s 2ms/step - loss: 0.2540 - accuracy: 0.9467\n",
            "Epoch 32/100\n",
            "5/5 [==============================] - 0s 2ms/step - loss: 0.2524 - accuracy: 0.9467\n",
            "Epoch 33/100\n",
            "5/5 [==============================] - 0s 2ms/step - loss: 0.2518 - accuracy: 0.9467\n",
            "Epoch 34/100\n",
            "5/5 [==============================] - 0s 1ms/step - loss: 0.2521 - accuracy: 0.9467\n",
            "Epoch 35/100\n",
            "5/5 [==============================] - 0s 1ms/step - loss: 0.2510 - accuracy: 0.9467\n",
            "Epoch 36/100\n",
            "5/5 [==============================] - 0s 2ms/step - loss: 0.2510 - accuracy: 0.9467\n",
            "Epoch 37/100\n",
            "5/5 [==============================] - 0s 1ms/step - loss: 0.2507 - accuracy: 0.9467\n",
            "Epoch 38/100\n",
            "5/5 [==============================] - 0s 2ms/step - loss: 0.2509 - accuracy: 0.9467\n",
            "Epoch 39/100\n",
            "5/5 [==============================] - 0s 2ms/step - loss: 0.2504 - accuracy: 0.9467\n",
            "Epoch 40/100\n",
            "5/5 [==============================] - 0s 2ms/step - loss: 0.2496 - accuracy: 0.9467\n",
            "Epoch 41/100\n",
            "5/5 [==============================] - 0s 2ms/step - loss: 0.2496 - accuracy: 0.9467\n",
            "Epoch 42/100\n",
            "5/5 [==============================] - 0s 2ms/step - loss: 0.2493 - accuracy: 0.9467\n",
            "Epoch 43/100\n",
            "5/5 [==============================] - 0s 2ms/step - loss: 0.2493 - accuracy: 0.9467\n",
            "Epoch 44/100\n",
            "5/5 [==============================] - 0s 1ms/step - loss: 0.2488 - accuracy: 0.9467\n",
            "Epoch 45/100\n",
            "5/5 [==============================] - 0s 2ms/step - loss: 0.2484 - accuracy: 0.9467\n",
            "Epoch 46/100\n",
            "5/5 [==============================] - 0s 1ms/step - loss: 0.2479 - accuracy: 0.9467\n",
            "Epoch 47/100\n",
            "5/5 [==============================] - 0s 1ms/step - loss: 0.2477 - accuracy: 0.9467\n",
            "Epoch 48/100\n",
            "5/5 [==============================] - 0s 2ms/step - loss: 0.2471 - accuracy: 0.9467\n",
            "Epoch 49/100\n",
            "5/5 [==============================] - 0s 2ms/step - loss: 0.2467 - accuracy: 0.9467\n",
            "Epoch 50/100\n",
            "5/5 [==============================] - 0s 1ms/step - loss: 0.2475 - accuracy: 0.9467\n",
            "Epoch 51/100\n",
            "5/5 [==============================] - 0s 1ms/step - loss: 0.2463 - accuracy: 0.9467\n",
            "Epoch 52/100\n",
            "5/5 [==============================] - 0s 2ms/step - loss: 0.2460 - accuracy: 0.9467\n",
            "Epoch 53/100\n",
            "5/5 [==============================] - 0s 2ms/step - loss: 0.2466 - accuracy: 0.9467\n",
            "Epoch 54/100\n",
            "5/5 [==============================] - 0s 2ms/step - loss: 0.2453 - accuracy: 0.9467\n",
            "Epoch 55/100\n",
            "5/5 [==============================] - 0s 2ms/step - loss: 0.2455 - accuracy: 0.9467\n",
            "Epoch 56/100\n",
            "5/5 [==============================] - 0s 1ms/step - loss: 0.2448 - accuracy: 0.9467\n",
            "Epoch 57/100\n",
            "5/5 [==============================] - 0s 2ms/step - loss: 0.2448 - accuracy: 0.9467\n",
            "Epoch 58/100\n",
            "5/5 [==============================] - 0s 1ms/step - loss: 0.2440 - accuracy: 0.9467\n",
            "Epoch 59/100\n",
            "5/5 [==============================] - 0s 1ms/step - loss: 0.2438 - accuracy: 0.9467\n",
            "Epoch 60/100\n",
            "5/5 [==============================] - 0s 2ms/step - loss: 0.2445 - accuracy: 0.9467\n",
            "Epoch 61/100\n",
            "5/5 [==============================] - 0s 1ms/step - loss: 0.2432 - accuracy: 0.9467\n",
            "Epoch 62/100\n",
            "5/5 [==============================] - 0s 2ms/step - loss: 0.2432 - accuracy: 0.9467\n",
            "Epoch 63/100\n",
            "5/5 [==============================] - 0s 2ms/step - loss: 0.2428 - accuracy: 0.9467\n",
            "Epoch 64/100\n",
            "5/5 [==============================] - 0s 2ms/step - loss: 0.2422 - accuracy: 0.9467\n",
            "Epoch 65/100\n",
            "5/5 [==============================] - 0s 2ms/step - loss: 0.2420 - accuracy: 0.9533\n",
            "Epoch 66/100\n",
            "5/5 [==============================] - 0s 2ms/step - loss: 0.2416 - accuracy: 0.9467\n",
            "Epoch 67/100\n",
            "5/5 [==============================] - 0s 1ms/step - loss: 0.2412 - accuracy: 0.9467\n",
            "Epoch 68/100\n",
            "5/5 [==============================] - 0s 1ms/step - loss: 0.2414 - accuracy: 0.9467\n",
            "Epoch 69/100\n",
            "5/5 [==============================] - 0s 1ms/step - loss: 0.2419 - accuracy: 0.9467\n",
            "Epoch 70/100\n",
            "5/5 [==============================] - 0s 1ms/step - loss: 0.2405 - accuracy: 0.9467\n",
            "Epoch 71/100\n",
            "5/5 [==============================] - 0s 1ms/step - loss: 0.2404 - accuracy: 0.9467\n",
            "Epoch 72/100\n",
            "5/5 [==============================] - 0s 2ms/step - loss: 0.2400 - accuracy: 0.9467\n",
            "Epoch 73/100\n",
            "5/5 [==============================] - 0s 2ms/step - loss: 0.2395 - accuracy: 0.9467\n",
            "Epoch 74/100\n",
            "5/5 [==============================] - 0s 2ms/step - loss: 0.2390 - accuracy: 0.9467\n",
            "Epoch 75/100\n",
            "5/5 [==============================] - 0s 2ms/step - loss: 0.2389 - accuracy: 0.9533\n",
            "Epoch 76/100\n",
            "5/5 [==============================] - 0s 1ms/step - loss: 0.2393 - accuracy: 0.9467\n",
            "Epoch 77/100\n",
            "5/5 [==============================] - 0s 1ms/step - loss: 0.2386 - accuracy: 0.9467\n",
            "Epoch 78/100\n",
            "5/5 [==============================] - 0s 2ms/step - loss: 0.2377 - accuracy: 0.9467\n",
            "Epoch 79/100\n",
            "5/5 [==============================] - 0s 1ms/step - loss: 0.2382 - accuracy: 0.9467\n",
            "Epoch 80/100\n",
            "5/5 [==============================] - 0s 2ms/step - loss: 0.2378 - accuracy: 0.9467\n",
            "Epoch 81/100\n",
            "5/5 [==============================] - 0s 2ms/step - loss: 0.2374 - accuracy: 0.9467\n",
            "Epoch 82/100\n",
            "5/5 [==============================] - 0s 2ms/step - loss: 0.2372 - accuracy: 0.9467\n",
            "Epoch 83/100\n",
            "5/5 [==============================] - 0s 1ms/step - loss: 0.2366 - accuracy: 0.9467\n",
            "Epoch 84/100\n",
            "5/5 [==============================] - 0s 2ms/step - loss: 0.2361 - accuracy: 0.9467\n",
            "Epoch 85/100\n",
            "5/5 [==============================] - 0s 2ms/step - loss: 0.2356 - accuracy: 0.9467\n",
            "Epoch 86/100\n",
            "5/5 [==============================] - 0s 2ms/step - loss: 0.2363 - accuracy: 0.9467\n",
            "Epoch 87/100\n",
            "5/5 [==============================] - 0s 2ms/step - loss: 0.2353 - accuracy: 0.9467\n",
            "Epoch 88/100\n",
            "5/5 [==============================] - 0s 1ms/step - loss: 0.2355 - accuracy: 0.9467\n",
            "Epoch 89/100\n",
            "5/5 [==============================] - 0s 2ms/step - loss: 0.2349 - accuracy: 0.9533\n",
            "Epoch 90/100\n",
            "5/5 [==============================] - 0s 2ms/step - loss: 0.2346 - accuracy: 0.9467\n",
            "Epoch 91/100\n",
            "5/5 [==============================] - 0s 2ms/step - loss: 0.2339 - accuracy: 0.9467\n",
            "Epoch 92/100\n",
            "5/5 [==============================] - 0s 2ms/step - loss: 0.2340 - accuracy: 0.9467\n",
            "Epoch 93/100\n",
            "5/5 [==============================] - 0s 2ms/step - loss: 0.2338 - accuracy: 0.9467\n",
            "Epoch 94/100\n",
            "5/5 [==============================] - 0s 1ms/step - loss: 0.2336 - accuracy: 0.9467\n",
            "Epoch 95/100\n",
            "5/5 [==============================] - 0s 2ms/step - loss: 0.2332 - accuracy: 0.9467\n",
            "Epoch 96/100\n",
            "5/5 [==============================] - 0s 2ms/step - loss: 0.2328 - accuracy: 0.9467\n",
            "Epoch 97/100\n",
            "5/5 [==============================] - 0s 2ms/step - loss: 0.2321 - accuracy: 0.9467\n",
            "Epoch 98/100\n",
            "5/5 [==============================] - 0s 1ms/step - loss: 0.2331 - accuracy: 0.9467\n",
            "Epoch 99/100\n",
            "5/5 [==============================] - 0s 1ms/step - loss: 0.2320 - accuracy: 0.9467\n",
            "Epoch 100/100\n",
            "5/5 [==============================] - 0s 2ms/step - loss: 0.2318 - accuracy: 0.9467\n"
          ],
          "name": "stdout"
        },
        {
          "output_type": "execute_result",
          "data": {
            "text/plain": [
              "<tensorflow.python.keras.callbacks.History at 0x7f37fa695898>"
            ]
          },
          "metadata": {
            "tags": []
          },
          "execution_count": 23
        }
      ]
    },
    {
      "cell_type": "code",
      "metadata": {
        "id": "xJAHhFhMzkI-",
        "colab_type": "code",
        "colab": {
          "base_uri": "https://localhost:8080/",
          "height": 108
        },
        "outputId": "3f8acf50-1991-4d3b-bef3-9b1a64211237"
      },
      "source": [
        "model.predict(독립[0:5])"
      ],
      "execution_count": 20,
      "outputs": [
        {
          "output_type": "execute_result",
          "data": {
            "text/plain": [
              "array([[9.9200237e-01, 7.9280306e-03, 6.9615264e-05],\n",
              "       [9.8443884e-01, 1.5333656e-02, 2.2756401e-04],\n",
              "       [9.8747534e-01, 1.2378447e-02, 1.4618371e-04],\n",
              "       [9.7287774e-01, 2.6762661e-02, 3.5959232e-04],\n",
              "       [9.9171621e-01, 8.2190679e-03, 6.4789150e-05]], dtype=float32)"
            ]
          },
          "metadata": {
            "tags": []
          },
          "execution_count": 20
        }
      ]
    },
    {
      "cell_type": "code",
      "metadata": {
        "id": "o8jjoTUhz2eY",
        "colab_type": "code",
        "colab": {
          "base_uri": "https://localhost:8080/",
          "height": 126
        },
        "outputId": "7f711b95-6364-43ff-cace-2fcb8a45e036"
      },
      "source": [
        "print(종속[0:5])"
      ],
      "execution_count": 21,
      "outputs": [
        {
          "output_type": "stream",
          "text": [
            "   품종_setosa  품종_versicolor  품종_virginica\n",
            "0          1              0             0\n",
            "1          1              0             0\n",
            "2          1              0             0\n",
            "3          1              0             0\n",
            "4          1              0             0\n"
          ],
          "name": "stdout"
        }
      ]
    },
    {
      "cell_type": "code",
      "metadata": {
        "id": "o7azZnAYz8aG",
        "colab_type": "code",
        "colab": {
          "base_uri": "https://localhost:8080/",
          "height": 108
        },
        "outputId": "cb340d67-e193-4033-ec3a-f73175530a46"
      },
      "source": [
        "model.get_weights()"
      ],
      "execution_count": 22,
      "outputs": [
        {
          "output_type": "execute_result",
          "data": {
            "text/plain": [
              "[array([[ 0.96318537, -0.24968068, -0.22869638],\n",
              "        [ 0.64392525, -0.20552908, -1.2635252 ],\n",
              "        [-2.1686492 ,  0.72991073,  0.8566823 ],\n",
              "        [-2.5147412 , -1.1316377 ,  1.397006  ]], dtype=float32),\n",
              " array([ 0.81840104,  0.8131819 , -1.0092361 ], dtype=float32)]"
            ]
          },
          "metadata": {
            "tags": []
          },
          "execution_count": 22
        }
      ]
    },
    {
      "cell_type": "code",
      "metadata": {
        "id": "5mZOtolR0K8N",
        "colab_type": "code",
        "colab": {}
      },
      "source": [
        ""
      ],
      "execution_count": null,
      "outputs": []
    }
  ]
}